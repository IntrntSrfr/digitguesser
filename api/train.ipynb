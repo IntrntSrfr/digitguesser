{
 "cells": [
  {
   "cell_type": "code",
   "execution_count": 1,
   "metadata": {},
   "outputs": [
    {
     "name": "stdout",
     "output_type": "stream",
     "text": [
      "cuda\n"
     ]
    }
   ],
   "source": [
    "import torch\n",
    "from torch import nn\n",
    "from torch.utils.data import DataLoader\n",
    "import torchvision\n",
    "from torchvision import transforms\n",
    "import matplotlib.pyplot as plt\n",
    "import numpy as np\n",
    "from tqdm import tqdm\n",
    "\n",
    "device = torch.device(\"cuda\" if torch.cuda.is_available() else \"cpu\")\n",
    "print(device)"
   ]
  },
  {
   "cell_type": "code",
   "execution_count": 2,
   "metadata": {},
   "outputs": [],
   "source": [
    "transforms = transforms.Compose([\n",
    "    transforms.Resize((28, 28)),\n",
    "    transforms.ToTensor(),\n",
    "    transforms.Normalize([0.1307], [0.3081])\n",
    "])\n",
    "\n",
    "train = torchvision.datasets.MNIST(\n",
    "    \"./data\", train=True, download=True, transform=transforms)\n",
    "test = torchvision.datasets.MNIST(\n",
    "    \"./data\", train=False, download=True, transform=transforms)\n",
    "\n",
    "batch_size = 64\n",
    "train_ldr = DataLoader(train, batch_size=batch_size,\n",
    "                       shuffle=True, num_workers=4)\n",
    "test_ldr = DataLoader(test, batch_size=batch_size, shuffle=True, num_workers=4)\n"
   ]
  },
  {
   "cell_type": "code",
   "execution_count": 3,
   "metadata": {},
   "outputs": [
    {
     "name": "stdout",
     "output_type": "stream",
     "text": [
      "epoch: 0\n"
     ]
    },
    {
     "name": "stderr",
     "output_type": "stream",
     "text": [
      "    loss: 0.156; acc: 0.955: 100%|██████████| 938/938 [00:22<00:00, 42.33it/s]\n"
     ]
    },
    {
     "name": "stdout",
     "output_type": "stream",
     "text": [
      "epoch: 1\n"
     ]
    },
    {
     "name": "stderr",
     "output_type": "stream",
     "text": [
      "    loss: 0.076; acc: 0.978: 100%|██████████| 938/938 [00:18<00:00, 49.86it/s]\n"
     ]
    },
    {
     "name": "stdout",
     "output_type": "stream",
     "text": [
      "epoch: 2\n"
     ]
    },
    {
     "name": "stderr",
     "output_type": "stream",
     "text": [
      "    loss: 0.061; acc: 0.984: 100%|██████████| 938/938 [00:17<00:00, 53.19it/s]\n"
     ]
    },
    {
     "name": "stdout",
     "output_type": "stream",
     "text": [
      "epoch: 3\n"
     ]
    },
    {
     "name": "stderr",
     "output_type": "stream",
     "text": [
      "    loss: 0.053; acc: 0.986: 100%|██████████| 938/938 [00:17<00:00, 54.62it/s]\n"
     ]
    },
    {
     "name": "stdout",
     "output_type": "stream",
     "text": [
      "epoch: 4\n"
     ]
    },
    {
     "name": "stderr",
     "output_type": "stream",
     "text": [
      "    loss: 0.049; acc: 0.986: 100%|██████████| 938/938 [00:17<00:00, 55.00it/s]\n"
     ]
    }
   ],
   "source": [
    "from model import MnistModel\n",
    "\n",
    "model = MnistModel()\n",
    "model.to(device)\n",
    "loss_fn = nn.CrossEntropyLoss()\n",
    "optimizer = torch.optim.Adam(model.parameters(), lr=0.01)\n",
    "\n",
    "epochs = 5\n",
    "losses = []\n",
    "accuracies = []\n",
    "\n",
    "for epoch in range(epochs):\n",
    "    print(\"epoch: {}\".format(epoch))\n",
    "    train_loss = 0\n",
    "    train_acc = 0\n",
    "    for batch_idx, (batch, labels) in (pbar := tqdm(enumerate(train_ldr), total=len(train_ldr))):\n",
    "        batch, labels = batch.to(device), labels.to(device)\n",
    "        y = model(batch)\n",
    "        pred = torch.argmax(torch.exp(y), dim=1)\n",
    "        loss = loss_fn(y, labels)\n",
    "        loss.backward()\n",
    "        optimizer.step()\n",
    "        optimizer.zero_grad()\n",
    "\n",
    "        train_loss += loss.item()\n",
    "        train_acc += (pred == labels).sum().item() / len(batch)\n",
    "        pbar.set_description(\"    loss: {:.3f}; acc: {:.3f}\".format(train_loss / (batch_idx + 1), train_acc / (batch_idx + 1)))\n",
    "\n",
    "    losses.append(train_loss / len(train_ldr))\n",
    "    accuracies.append(train_acc / len(train_ldr))\n"
   ]
  },
  {
   "cell_type": "code",
   "execution_count": 5,
   "metadata": {},
   "outputs": [],
   "source": [
    "torch.save(model.state_dict(), './models/mnist.pt')"
   ]
  },
  {
   "cell_type": "code",
   "execution_count": 6,
   "metadata": {},
   "outputs": [
    {
     "data": {
      "text/plain": [
       "<matplotlib.legend.Legend at 0x1b8a9f24610>"
      ]
     },
     "execution_count": 6,
     "metadata": {},
     "output_type": "execute_result"
    },
    {
     "data": {
      "image/png": "[encoded data removed]",
      "text/plain": [
       "<Figure size 1080x360 with 2 Axes>"
      ]
     },
     "metadata": {},
     "output_type": "display_data"
    }
   ],
   "source": [
    "fig, (ax1, ax2) = plt.subplots(1, 2, figsize=(15, 5))\n",
    "fig.set_facecolor('white')\n",
    "ax1.set_yscale('log')\n",
    "ax1.plot(np.linspace(0, epochs, num=epochs), losses, label='loss')\n",
    "ax1.legend()\n",
    "ax2.plot(np.linspace(0, epochs, num=epochs), accuracies, label='accuracy')\n",
    "ax2.legend()\n"
   ]
  }
 ],
 "metadata": {
  "kernelspec": {
   "display_name": "venv",
   "language": "python",
   "name": "python3"
  },
  "language_info": {
   "codemirror_mode": {
    "name": "ipython",
    "version": 3
   },
   "file_extension": ".py",
   "mimetype": "text/x-python",
   "name": "python",
   "nbconvert_exporter": "python",
   "pygments_lexer": "ipython3",
   "version": "3.10.0"
  },
  "orig_nbformat": 4,
  "vscode": {
   "interpreter": {
    "hash": "f4527595121748531d768043a45d2e7e4ca225a42e4464027965734f7640e02b"
   }
  }
 },
 "nbformat": 4,
 "nbformat_minor": 2
}
